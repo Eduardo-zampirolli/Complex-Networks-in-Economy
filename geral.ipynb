{
 "cells": [
  {
   "cell_type": "code",
   "execution_count": 1,
   "id": "478e7788-dfb6-40a2-bea9-668cc1187c08",
   "metadata": {},
   "outputs": [],
   "source": [
    "import numpy as np\n",
    "import pandas as pd"
   ]
  },
  {
   "cell_type": "code",
   "execution_count": null,
   "id": "100e17b0-2b70-4ef8-b8f9-c7196f1f7508",
   "metadata": {},
   "outputs": [],
   "source": []
  },
  {
   "cell_type": "code",
   "execution_count": 3,
   "id": "915beffb-2456-4982-8c74-46702378c7e8",
   "metadata": {},
   "outputs": [],
   "source": [
    "df = pd.read_csv('Data/cnae/2020/RAIS_vinculos_2020.csv')\n",
    "m = df.pivot_table(index='Municipality ID', \n",
    "                      columns='Class ID', \n",
    "                      values='Workers', \n",
    "                      aggfunc='sum',  # Ensure summing workers\n",
    "                      fill_value=0).values\n",
    "# Calculate totals\n",
    "X = np.sum(m)          # Grand total ✓ Correct\n",
    "X_c = np.sum(m, axis=0, keepdims=True)  # Sum over locations (for each activity)\n",
    "X_p = np.sum(m, axis=1, keepdims=True)  # Sum over activities (for each location)\n",
    "\n",
    "# The RCA formula is: RCA = (m[p,i] / X_p[p]) / (X_c[i] / X)\n",
    "# Which simplifies to: RCA = (m[p,i] * X) / (X_p[p] * X_c[i])\n",
    "with np.errstate(divide='ignore', invalid='ignore'):\n",
    "    R = (m * X) / (X_p * X_c)\n",
    "    R[~np.isfinite(R)] = 0 \n",
    "\n",
    "\n",
    "# Convert back to DataFrame\n",
    "municipalities = df['Municipality ID'].unique()\n",
    "classes = df['Class'].unique()\n",
    "\n",
    "Rcp_df = pd.DataFrame(R, \n",
    "                     index=municipalities, \n",
    "                     columns=classes)"
   ]
  },
  {
   "cell_type": "code",
   "execution_count": 4,
   "id": "74513ff3-9628-4926-898e-2ee7c3cbd837",
   "metadata": {},
   "outputs": [
    {
     "data": {
      "text/plain": [
       "np.int64(6919484)"
      ]
     },
     "execution_count": 4,
     "metadata": {},
     "output_type": "execute_result"
    }
   ],
   "source": [
    "df[df['Municipality ID'] == 3550308]['Workers'].sum()\n",
    "#Rcp_df.loc[3550308].sum()"
   ]
  },
  {
   "cell_type": "code",
   "execution_count": 42,
   "id": "d01a458a-9a79-48e5-bf5a-63300dbbddc4",
   "metadata": {},
   "outputs": [
    {
     "data": {
      "text/plain": [
       "np.int64(898)"
      ]
     },
     "execution_count": 42,
     "metadata": {},
     "output_type": "execute_result"
    }
   ],
   "source": [
    "df[df['Municipality ID'] == 2922656]['Workers'].sum()\n",
    "#Rcp_df.loc[3550308].sum()"
   ]
  },
  {
   "cell_type": "code",
   "execution_count": 41,
   "id": "216fca45-381a-4375-8523-e0b8842db7ab",
   "metadata": {},
   "outputs": [
    {
     "data": {
      "text/plain": [
       "np.float64(19454.968263624134)"
      ]
     },
     "execution_count": 41,
     "metadata": {},
     "output_type": "execute_result"
    }
   ],
   "source": [
    "Rcp_df.loc[2922656].sum()\n"
   ]
  },
  {
   "cell_type": "code",
   "execution_count": 38,
   "id": "50dc0236-d2b7-4ac0-bd86-e51c33e415c5",
   "metadata": {},
   "outputs": [
    {
     "data": {
      "text/plain": [
       "np.float64(654.6754603000617)"
      ]
     },
     "execution_count": 38,
     "metadata": {},
     "output_type": "execute_result"
    }
   ],
   "source": [
    "#df[df['Municipality ID'] == 3550308]['Workers'].sum()\n",
    "Rcp_df.loc[3550308].sum()"
   ]
  },
  {
   "cell_type": "code",
   "execution_count": 40,
   "id": "338b2b5a-f9a7-46bb-8c1f-a0213b72d8e6",
   "metadata": {},
   "outputs": [
    {
     "name": "stdout",
     "output_type": "stream",
     "text": [
      "Municipality ID: 2922656, Sum: 19454.9683\n"
     ]
    }
   ],
   "source": [
    "max_municipality_id = Rcp_df.sum(axis=1).idxmax()\n",
    "max_sum_value = Rcp_df.sum(axis=1).max()\n",
    "\n",
    "print(f\"Municipality ID: {max_municipality_id}, Sum: {max_sum_value:.4f}\")"
   ]
  },
  {
   "cell_type": "code",
   "execution_count": 5,
   "id": "282b0e3a-e89a-4f08-9862-b9863eae926f",
   "metadata": {},
   "outputs": [
    {
     "name": "stdout",
     "output_type": "stream",
     "text": [
      "RCA data:\n",
      "         Cultivo de cereais  Cultivo de soja  Cultivo de café  \\\n",
      "1100015            0.183781         0.000000              0.0   \n",
      "1100023            0.552860         0.841929              0.0   \n",
      "1100031            4.189756         0.000000              0.0   \n",
      "1100049            0.125720         0.000000              0.0   \n",
      "1100056            2.489547         0.000000              0.0   \n",
      "\n",
      "         Criação de bovinos  \\\n",
      "1100015                 0.0   \n",
      "1100023                 0.0   \n",
      "1100031                 0.0   \n",
      "1100049                 0.0   \n",
      "1100056                 0.0   \n",
      "\n",
      "         Criação de animais não especificados anteriormente  \\\n",
      "1100015                                           1.536928    \n",
      "1100023                                           0.482266    \n",
      "1100031                                          39.487452    \n",
      "1100049                                           0.000000    \n",
      "1100056                                          18.341096    \n",
      "\n",
      "         Atividades de apoio à agricultura  Atividades de apoio à pecuária  \\\n",
      "1100015                           0.000000                        0.000000   \n",
      "1100023                           1.245845                        0.000000   \n",
      "1100031                           0.000000                        0.000000   \n",
      "1100049                           0.000000                        0.175832   \n",
      "1100056                           0.000000                        0.000000   \n",
      "\n",
      "         Produção florestal - florestas plantadas  \\\n",
      "1100015                                  0.000000   \n",
      "1100023                                  0.000000   \n",
      "1100031                                  0.000000   \n",
      "1100049                                  0.090902   \n",
      "1100056                                  0.000000   \n",
      "\n",
      "         Extração de pedra, areia e argila  Abate de reses, exceto suínos  \\\n",
      "1100015                           0.000000                       0.000000   \n",
      "1100023                           0.406913                       0.000000   \n",
      "1100031                           0.000000                       0.000000   \n",
      "1100049                           0.097158                       0.645472   \n",
      "1100056                           0.000000                       0.000000   \n",
      "\n",
      "         ...  Fabricação de mídias virgens, magnéticas e ópticas  \\\n",
      "1100015  ...                                           0.000000    \n",
      "1100023  ...                                           0.276194    \n",
      "1100031  ...                                           0.000000    \n",
      "1100049  ...                                           0.527570    \n",
      "1100056  ...                                           0.000000    \n",
      "\n",
      "         Fabricação de meias  \\\n",
      "1100015             0.000000   \n",
      "1100023             1.027294   \n",
      "1100031             0.000000   \n",
      "1100049             0.700815   \n",
      "1100056             0.000000   \n",
      "\n",
      "         Administração de bolsas e mercados de balcão organizados  \\\n",
      "1100015                                           0.000000          \n",
      "1100023                                           1.891228          \n",
      "1100031                                           0.000000          \n",
      "1100049                                           0.903131          \n",
      "1100056                                           0.000000          \n",
      "\n",
      "         Fabricação de máquinas e equipamentos para as indústrias de celulose, papel e papelão e artefatos  \\\n",
      "1100015                                           0.000000                                                   \n",
      "1100023                                           0.588298                                                   \n",
      "1100031                                           0.000000                                                   \n",
      "1100049                                           1.030092                                                   \n",
      "1100056                                           0.772662                                                   \n",
      "\n",
      "         Fabricação de catalisadores  Resseguros  \\\n",
      "1100015                     0.000000    0.159619   \n",
      "1100023                     0.378567    1.120404   \n",
      "1100031                     0.000000    0.000000   \n",
      "1100049                     0.230083    2.009108   \n",
      "1100056                     0.000000    0.000000   \n",
      "\n",
      "         Fabricação de turbinas, motores e outros componentes e peças para aeronaves  \\\n",
      "1100015                                           1.428674                             \n",
      "1100023                                           0.368384                             \n",
      "1100031                                           0.000000                             \n",
      "1100049                                           2.150096                             \n",
      "1100056                                           0.645106                             \n",
      "\n",
      "         Fabricação de cartolina e papel-cartão  Relações exteriores  \\\n",
      "1100015                                0.419642                  0.0   \n",
      "1100023                                0.721365                  0.0   \n",
      "1100031                                0.000000                  0.0   \n",
      "1100049                                1.550152                  0.0   \n",
      "1100056                                1.421144                  0.0   \n",
      "\n",
      "         Fabricação de veículos militares de combate  \n",
      "1100015                                          0.0  \n",
      "1100023                                          0.0  \n",
      "1100031                                          0.0  \n",
      "1100049                                          0.0  \n",
      "1100056                                          0.0  \n",
      "\n",
      "[5 rows x 670 columns]\n",
      "Shape: (5570, 670)\n",
      "Locality IDs: [1100015, 1100023, 1100031, 1100049, 1100056]...\n",
      "Activity IDs: ['Cultivo de cereais', 'Cultivo de soja', 'Cultivo de café', 'Criação de bovinos', 'Criação de animais não especificados anteriormente']...\n",
      "\n",
      "Binary matrix:\n",
      "         Cultivo de cereais  Cultivo de soja  Cultivo de café  \\\n",
      "1100015                   0                0                0   \n",
      "1100023                   0                0                0   \n",
      "1100031                   1                0                0   \n",
      "1100049                   0                0                0   \n",
      "1100056                   1                0                0   \n",
      "\n",
      "         Criação de bovinos  \\\n",
      "1100015                   0   \n",
      "1100023                   0   \n",
      "1100031                   0   \n",
      "1100049                   0   \n",
      "1100056                   0   \n",
      "\n",
      "         Criação de animais não especificados anteriormente  \\\n",
      "1100015                                                  1    \n",
      "1100023                                                  0    \n",
      "1100031                                                  1    \n",
      "1100049                                                  0    \n",
      "1100056                                                  1    \n",
      "\n",
      "         Atividades de apoio à agricultura  Atividades de apoio à pecuária  \\\n",
      "1100015                                  0                               0   \n",
      "1100023                                  1                               0   \n",
      "1100031                                  0                               0   \n",
      "1100049                                  0                               0   \n",
      "1100056                                  0                               0   \n",
      "\n",
      "         Produção florestal - florestas plantadas  \\\n",
      "1100015                                         0   \n",
      "1100023                                         0   \n",
      "1100031                                         0   \n",
      "1100049                                         0   \n",
      "1100056                                         0   \n",
      "\n",
      "         Extração de pedra, areia e argila  Abate de reses, exceto suínos  \\\n",
      "1100015                                  0                              0   \n",
      "1100023                                  0                              0   \n",
      "1100031                                  0                              0   \n",
      "1100049                                  0                              0   \n",
      "1100056                                  0                              0   \n",
      "\n",
      "         ...  Fabricação de mídias virgens, magnéticas e ópticas  \\\n",
      "1100015  ...                                                  0    \n",
      "1100023  ...                                                  0    \n",
      "1100031  ...                                                  0    \n",
      "1100049  ...                                                  0    \n",
      "1100056  ...                                                  0    \n",
      "\n",
      "         Fabricação de meias  \\\n",
      "1100015                    0   \n",
      "1100023                    1   \n",
      "1100031                    0   \n",
      "1100049                    0   \n",
      "1100056                    0   \n",
      "\n",
      "         Administração de bolsas e mercados de balcão organizados  \\\n",
      "1100015                                                  0          \n",
      "1100023                                                  1          \n",
      "1100031                                                  0          \n",
      "1100049                                                  0          \n",
      "1100056                                                  0          \n",
      "\n",
      "         Fabricação de máquinas e equipamentos para as indústrias de celulose, papel e papelão e artefatos  \\\n",
      "1100015                                                  0                                                   \n",
      "1100023                                                  0                                                   \n",
      "1100031                                                  0                                                   \n",
      "1100049                                                  1                                                   \n",
      "1100056                                                  0                                                   \n",
      "\n",
      "         Fabricação de catalisadores  Resseguros  \\\n",
      "1100015                            0           0   \n",
      "1100023                            0           1   \n",
      "1100031                            0           0   \n",
      "1100049                            0           1   \n",
      "1100056                            0           0   \n",
      "\n",
      "         Fabricação de turbinas, motores e outros componentes e peças para aeronaves  \\\n",
      "1100015                                                  1                             \n",
      "1100023                                                  0                             \n",
      "1100031                                                  0                             \n",
      "1100049                                                  1                             \n",
      "1100056                                                  0                             \n",
      "\n",
      "         Fabricação de cartolina e papel-cartão  Relações exteriores  \\\n",
      "1100015                                       0                    0   \n",
      "1100023                                       0                    0   \n",
      "1100031                                       0                    0   \n",
      "1100049                                       1                    0   \n",
      "1100056                                       1                    0   \n",
      "\n",
      "         Fabricação de veículos militares de combate  \n",
      "1100015                                            0  \n",
      "1100023                                            0  \n",
      "1100031                                            0  \n",
      "1100049                                            0  \n",
      "1100056                                            0  \n",
      "\n",
      "[5 rows x 670 columns]\n",
      "Binary matrix shape: (5570, 670)\n",
      "\n",
      "Statistics:\n",
      "Total entries: 3731900\n",
      "Ones (RCA >= 1): 225699\n",
      "Zeros (RCA < 1): 3506201\n",
      "Percentage with RCA >= 1: 6.05%\n",
      "\n",
      "Diversity (activities per location):\n",
      "1100015     61\n",
      "1100023    144\n",
      "1100031     30\n",
      "1100049    145\n",
      "1100056     69\n",
      "dtype: int64\n",
      "\n",
      "Ubiquity (locations per activity):\n",
      "Cultivo de cereais                                    1473\n",
      "Cultivo de soja                                        333\n",
      "Cultivo de café                                        645\n",
      "Criação de bovinos                                      38\n",
      "Criação de animais não especificados anteriormente    1086\n",
      "dtype: int64\n"
     ]
    }
   ],
   "source": [
    "#Rcp_df.max().max()\n",
    "# Display the first few rows to verify strucdf=ture\n",
    "df=Rcp_df\n",
    "print(\"RCA data:\")\n",
    "print(df.head())\n",
    "print(f\"Shape: {df.shape}\")\n",
    "print(f\"Locality IDs: {df.index.tolist()[:5]}...\")\n",
    "print(f\"Activity IDs: {df.columns.tolist()[:5]}...\")\n",
    "\n",
    "# Create binary matrix (1 if RCA >= 1, else 0)\n",
    "binary_matrix = (df >= 1.0).astype(int)\n",
    "\n",
    "print(\"\\nBinary matrix:\")\n",
    "print(binary_matrix.head())\n",
    "print(f\"Binary matrix shape: {binary_matrix.shape}\")\n",
    "\n",
    "# Check some statistics\n",
    "print(f\"\\nStatistics:\")\n",
    "print(f\"Total entries: {binary_matrix.size}\")\n",
    "print(f\"Ones (RCA >= 1): {binary_matrix.sum().sum()}\")\n",
    "print(f\"Zeros (RCA < 1): {binary_matrix.size - binary_matrix.sum().sum()}\")\n",
    "print(f\"Percentage with RCA >= 1: {binary_matrix.sum().sum()/binary_matrix.size*100:.2f}%\")\n",
    "\n",
    "# Calculate diversity and ubiquity (key metrics for economic complexity)\n",
    "diversity = binary_matrix.sum(axis=1)  # Number of activities per location\n",
    "ubiquity = binary_matrix.sum(axis=0)   # Number of locations per activity\n",
    "\n",
    "print(\"\\nDiversity (activities per location):\")\n",
    "print(diversity.head())\n",
    "\n",
    "print(\"\\nUbiquity (locations per activity):\")\n",
    "print(ubiquity.head())\n",
    "\n"
   ]
  },
  {
   "cell_type": "code",
   "execution_count": 25,
   "id": "1644124b-3bc2-46b1-a889-f5ca0a67fa1e",
   "metadata": {},
   "outputs": [
    {
     "data": {
      "text/plain": [
       "np.int64(242)"
      ]
     },
     "execution_count": 25,
     "metadata": {},
     "output_type": "execute_result"
    }
   ],
   "source": [
    "binary_matrix.loc[3550308].sum()"
   ]
  }
 ],
 "metadata": {
  "kernelspec": {
   "display_name": "myenv",
   "language": "python",
   "name": "myenv"
  },
  "language_info": {
   "codemirror_mode": {
    "name": "ipython",
    "version": 3
   },
   "file_extension": ".py",
   "mimetype": "text/x-python",
   "name": "python",
   "nbconvert_exporter": "python",
   "pygments_lexer": "ipython3",
   "version": "3.13.7"
  }
 },
 "nbformat": 4,
 "nbformat_minor": 5
}
